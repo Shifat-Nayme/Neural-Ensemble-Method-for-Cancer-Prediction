{
 "cells": [
  {
   "cell_type": "code",
   "execution_count": 32,
   "metadata": {},
   "outputs": [],
   "source": [
    "import keras\n",
    "from matplotlib import pyplot as plt\n",
    "import numpy as np\n",
    "import gzip\n",
    "%matplotlib inline\n",
    "from keras.models import Model\n",
    "from keras.optimizers import RMSprop\n",
    "from keras.layers import Input,Dense,Flatten,Dropout,merge,Reshape,Conv2D,MaxPooling2D,UpSampling2D,Conv2DTranspose\n",
    "from keras.layers.normalization import BatchNormalization\n",
    "from keras.models import Model,Sequential\n",
    "from keras.callbacks import ModelCheckpoint\n",
    "from keras.optimizers import Adadelta, RMSprop,SGD,Adam\n",
    "from keras import regularizers\n",
    "from keras import backend as K\n",
    "from keras.utils import to_categorical\n",
    "\n",
    "import os\n",
    "import pandas as pd\n",
    "import numpy as np\n",
    "import sys\n",
    "from time import time\n",
    "\n",
    "from sklearn.preprocessing import LabelEncoder\n",
    "from sklearn.model_selection import train_test_split\n",
    "from sklearn import metrics\n",
    "\n",
    "from keras.models import Sequential\n",
    "from keras.layers import LSTM, Dense, Dropout, Activation, Flatten, BatchNormalization\n",
    "from keras.layers import TimeDistributed\n",
    "from keras.callbacks import TensorBoard\n",
    "from keras.optimizers import RMSprop\n",
    "from keras.regularizers import l2\n",
    "from keras.callbacks import EarlyStopping\n",
    "from sklearn.metrics import precision_recall_fscore_support, roc_auc_score\n",
    "from keras.utils import np_utils\n",
    "\n",
    "from keras import backend as K\n",
    "K.set_image_dim_ordering('tf')\n",
    "import matplotlib.pyplot as plt\n",
    "import itertools\n",
    "from keras.regularizers import L1L2\n",
    "\n",
    "import numpy as np\n",
    "import pandas as pd\n",
    "np.random.seed(10)\n",
    "\n",
    "from time import time\n",
    "import numpy as np\n",
    "import keras.backend as K\n",
    "from keras.engine.topology import Layer, InputSpec\n",
    "from keras.layers import Dense, Input\n",
    "from keras.models import Model\n",
    "from keras.optimizers import Adagrad\n",
    "from keras import callbacks\n",
    "from keras.initializers import VarianceScaling\n",
    "from sklearn.cluster import KMeans\n",
    "from sklearn import metrics\n",
    "from sklearn.metrics.cluster import normalized_mutual_info_score\n",
    "from sklearn.metrics.cluster import adjusted_rand_score\n",
    "from sklearn.metrics import accuracy_score\n",
    "from sklearn import manifold\n",
    "import keras.layers.normalization as bn\n",
    "\n",
    "from sklearn.metrics import confusion_matrix\n",
    "from sklearn.utils import shuffle\n",
    "import os        \n",
    "from keras.utils import plot_model\n",
    "import keras\n",
    "\n",
    "from sklearn.preprocessing import normalize  \n",
    "from sklearn.preprocessing import normalize  \n",
    "from sklearn import metrics\n",
    "from sklearn.metrics import matthews_corrcoef\n",
    "from sklearn.metrics import classification_report\n",
    "from keras import regularizers\n",
    "\n",
    "from keras.models import Sequential\n",
    "from keras.layers import Conv2D, MaxPooling2D, Convolution2D, UpSampling1D, MaxPooling1D, GlobalMaxPooling1D, GlobalAveragePooling1D\n",
    "from keras.layers import Dense, Dropout, Activation, Flatten\n",
    "from keras.layers import Dense\n",
    "from keras.layers import Flatten, Dense, Reshape\n",
    "from keras.layers import LSTM\n",
    "from keras.layers.embeddings import Embedding\n",
    "\n",
    "from keras.layers import Input, Dense, LSTM, MaxPooling1D, Conv1D, RepeatVector\n",
    "from keras.models import Model\n",
    "from data_util import *\n",
    "from autoencoder import *\n",
    "\n",
    "import pandas\n",
    "import seaborn as sns\n",
    "\n",
    "import os\n",
    "os.environ[\"CUDA_DEVICE_ORDER\"]=\"PCI_BUS_ID\"\n",
    "os.environ[\"CUDA_VISIBLE_DEVICES\"]=\"0\" #model will be trained on GPU 0"
   ]
  },
  {
   "cell_type": "code",
   "execution_count": 33,
   "metadata": {},
   "outputs": [
    {
     "name": "stdout",
     "output_type": "stream",
     "text": [
      "(7895, 20308)\n",
      "(7895,)\n",
      "Shauffle completed!\n"
     ]
    }
   ],
   "source": [
    "path = \"all_gene_input_data.csv\"\n",
    "type_features, type_labels = prepareData(path)"
   ]
  },
  {
   "cell_type": "code",
   "execution_count": 35,
   "metadata": {},
   "outputs": [
    {
     "name": "stdout",
     "output_type": "stream",
     "text": [
      "(7895, 20308, 1)\n",
      "Feature set shape: (7895, 20308, 1)\n",
      "Label array shape: (7895,)\n"
     ]
    }
   ],
   "source": [
    "type_features = np.reshape(type_features,(type_features.shape[0], 1, type_features.shape[1]))\n",
    "\n",
    "type_features = type_features.transpose(0,2,1)\n",
    "\n",
    "print(type_features.shape)\n",
    "\n",
    "# Shapes of training set\n",
    "print(\"Feature set shape: {shape}\".format(shape=type_features.shape))\n",
    "\n",
    "# Shapes of test set\n",
    "print(\"Label array shape: {shape}\".format(shape=type_labels.shape))"
   ]
  },
  {
   "cell_type": "code",
   "execution_count": 36,
   "metadata": {},
   "outputs": [
    {
     "data": {
      "text/plain": [
       "(7895, 20308, 1)"
      ]
     },
     "execution_count": 36,
     "metadata": {},
     "output_type": "execute_result"
    }
   ],
   "source": [
    "type_features.shape[0], type_features.shape[1], type_features.shape[2]"
   ]
  },
  {
   "cell_type": "markdown",
   "metadata": {},
   "source": [
    "# The Convolutional Autoencoder!"
   ]
  },
  {
   "cell_type": "code",
   "execution_count": 37,
   "metadata": {},
   "outputs": [],
   "source": [
    "input_layer = Input(shape=(20308, 1))\n",
    "num_classes = 14"
   ]
  },
  {
   "cell_type": "markdown",
   "metadata": {},
   "source": [
    "Let's create separate encoder and decoder functions since we will be using encoder weights later on for classification purpose!"
   ]
  },
  {
   "cell_type": "code",
   "execution_count": 38,
   "metadata": {},
   "outputs": [
    {
     "name": "stdout",
     "output_type": "stream",
     "text": [
      "_________________________________________________________________\n",
      "Layer (type)                 Output Shape              Param #   \n",
      "=================================================================\n",
      "input_3 (InputLayer)         (None, 20308, 1)          0         \n",
      "_________________________________________________________________\n",
      "conv1d_25 (Conv1D)           (None, 20308, 32)         96        \n",
      "_________________________________________________________________\n",
      "batch_normalization_23 (Batc (None, 20308, 32)         128       \n",
      "_________________________________________________________________\n",
      "conv1d_26 (Conv1D)           (None, 20308, 32)         2080      \n",
      "_________________________________________________________________\n",
      "batch_normalization_24 (Batc (None, 20308, 32)         128       \n",
      "_________________________________________________________________\n",
      "max_pooling1d_5 (MaxPooling1 (None, 10154, 32)         0         \n",
      "_________________________________________________________________\n",
      "conv1d_27 (Conv1D)           (None, 10154, 64)         4160      \n",
      "_________________________________________________________________\n",
      "batch_normalization_25 (Batc (None, 10154, 64)         256       \n",
      "_________________________________________________________________\n",
      "conv1d_28 (Conv1D)           (None, 10154, 64)         8256      \n",
      "_________________________________________________________________\n",
      "batch_normalization_26 (Batc (None, 10154, 64)         256       \n",
      "_________________________________________________________________\n",
      "conv1d_29 (Conv1D)           (None, 10154, 128)        16512     \n",
      "_________________________________________________________________\n",
      "batch_normalization_27 (Batc (None, 10154, 128)        512       \n",
      "_________________________________________________________________\n",
      "conv1d_30 (Conv1D)           (None, 10154, 128)        32896     \n",
      "_________________________________________________________________\n",
      "batch_normalization_28 (Batc (None, 10154, 128)        512       \n",
      "_________________________________________________________________\n",
      "conv1d_31 (Conv1D)           (None, 10154, 64)         16448     \n",
      "_________________________________________________________________\n",
      "batch_normalization_29 (Batc (None, 10154, 64)         256       \n",
      "_________________________________________________________________\n",
      "up_sampling1d_3 (UpSampling1 (None, 20308, 64)         0         \n",
      "_________________________________________________________________\n",
      "conv1d_32 (Conv1D)           (None, 20308, 1)          129       \n",
      "=================================================================\n",
      "Total params: 82,625\n",
      "Trainable params: 81,601\n",
      "Non-trainable params: 1,024\n",
      "_________________________________________________________________\n"
     ]
    }
   ],
   "source": [
    "autoencoder = Model(input_layer, decoder(encoder(input_layer)))\n",
    "autoencoder.compile(loss='mean_squared_error', optimizer = RMSprop(lr=0.001))\n",
    "\n",
    "autoencoder.summary()"
   ]
  },
  {
   "cell_type": "code",
   "execution_count": 39,
   "metadata": {},
   "outputs": [
    {
     "name": "stdout",
     "output_type": "stream",
     "text": [
      "Train on 7105 samples, validate on 790 samples\n",
      "Epoch 1/10\n",
      "7105/7105 [==============================] - 710s 100ms/step - loss: 0.0344 - val_loss: 0.0164\n",
      "Epoch 2/10\n",
      "7105/7105 [==============================] - 589s 83ms/step - loss: 0.0109 - val_loss: 0.8146\n",
      "Epoch 3/10\n",
      "7105/7105 [==============================] - 588s 83ms/step - loss: 0.0105 - val_loss: 0.0115\n",
      "Epoch 4/10\n",
      "7105/7105 [==============================] - 588s 83ms/step - loss: 0.0105 - val_loss: 0.8014\n",
      "Epoch 5/10\n",
      "7105/7105 [==============================] - 588s 83ms/step - loss: 0.0123 - val_loss: 0.8256\n",
      "Epoch 6/10\n",
      "7105/7105 [==============================] - 588s 83ms/step - loss: 0.0137 - val_loss: 0.0116\n",
      "Epoch 7/10\n",
      "7105/7105 [==============================] - 588s 83ms/step - loss: 0.0103 - val_loss: 0.0110\n",
      "Epoch 8/10\n",
      "7105/7105 [==============================] - 588s 83ms/step - loss: 0.0103 - val_loss: 0.8292\n",
      "Epoch 9/10\n",
      "7105/7105 [==============================] - 588s 83ms/step - loss: 0.0103 - val_loss: 0.0102\n",
      "Epoch 10/10\n",
      "7105/7105 [==============================] - 588s 83ms/step - loss: 0.0102 - val_loss: 0.0106\n"
     ]
    }
   ],
   "source": [
    "autoencoder_train = autoencoder.fit(type_features, type_features, batch_size=32, epochs=10, verbose=1, validation_split=0.1)"
   ]
  },
  {
   "cell_type": "code",
   "execution_count": 13,
   "metadata": {},
   "outputs": [
    {
     "data": {
      "image/png": "[encoded data removed]",
      "text/plain": [
       "<Figure size 432x288 with 1 Axes>"
      ]
     },
     "metadata": {
      "needs_background": "light"
     },
     "output_type": "display_data"
    }
   ],
   "source": [
    "loss = autoencoder_train.history['loss']\n",
    "val_loss = autoencoder_train.history['val_loss']\n",
    "epochs = range(1)\n",
    "plt.figure()\n",
    "plt.plot(epochs, loss, 'bo', label='Training loss')\n",
    "plt.plot(epochs, val_loss, 'b', label='Validation loss')\n",
    "plt.title('Training and validation loss')\n",
    "plt.legend()\n",
    "plt.show()"
   ]
  },
  {
   "cell_type": "markdown",
   "metadata": {},
   "source": [
    "# Classification model"
   ]
  },
  {
   "cell_type": "markdown",
   "metadata": {},
   "source": [
    "Let's define the fully connected layers that you will be stacking up with the encoder function."
   ]
  },
  {
   "cell_type": "code",
   "execution_count": 15,
   "metadata": {},
   "outputs": [],
   "source": [
    "def fc(enco):\n",
    "    flat = Flatten()(enco)\n",
    "    den = Dense(128, activation='relu')(flat)\n",
    "    out = Dense(num_classes, activation='softmax')(den)\n",
    "    return out\n",
    "\n",
    "encode = encoder(input_layer)\n",
    "full_model = Model(input_layer, fc(encode))\n",
    "\n",
    "#for l1,l2 in zip(full_model.layers[:19],autoencoder.layers[0:19]):\n",
    "    #l1.set_weights(l2.get_weights())"
   ]
  },
  {
   "cell_type": "markdown",
   "metadata": {},
   "source": [
    "Let's print first layer weights of both the models."
   ]
  },
  {
   "cell_type": "code",
   "execution_count": 16,
   "metadata": {},
   "outputs": [
    {
     "data": {
      "text/plain": [
       "array([[-0.00551033, -0.26436415,  0.18341604,  0.1884855 ,  0.14302844,\n",
       "         0.05221254,  0.16581374,  0.11870492,  0.1683194 , -0.13274796,\n",
       "        -0.15029387, -0.28066364, -0.18169379,  0.0646866 ,  0.02428335,\n",
       "         0.18222883,  0.14874   , -0.04383919, -0.06510088, -0.28985518,\n",
       "         0.19701856, -0.03284863,  0.09683183,  0.20184976, -0.1066173 ,\n",
       "        -0.19589585,  0.16308719, -0.07178247,  0.1592477 ,  0.08996254,\n",
       "         0.06768474,  0.13521144]], dtype=float32)"
      ]
     },
     "execution_count": 16,
     "metadata": {},
     "output_type": "execute_result"
    }
   ],
   "source": [
    "full_model.get_weights()[0][1]"
   ]
  },
  {
   "cell_type": "markdown",
   "metadata": {},
   "source": [
    "Voila! Both the arrays look exactly similar. So, without any further ado, let's compile the model and start the training. Next, you will make the encoder part i.e.the first nineteen layers of the model trainable false. Since the encoder part is already trained, you do not need to train it. You will only be training the Fully Connected part."
   ]
  },
  {
   "cell_type": "code",
   "execution_count": 17,
   "metadata": {},
   "outputs": [
    {
     "name": "stdout",
     "output_type": "stream",
     "text": [
      "_________________________________________________________________\n",
      "Layer (type)                 Output Shape              Param #   \n",
      "=================================================================\n",
      "input_1 (InputLayer)         (None, 20308, 1)          0         \n",
      "_________________________________________________________________\n",
      "conv1d_13 (Conv1D)           (None, 20308, 32)         96        \n",
      "_________________________________________________________________\n",
      "batch_normalization_12 (Batc (None, 20308, 32)         128       \n",
      "_________________________________________________________________\n",
      "conv1d_14 (Conv1D)           (None, 20308, 32)         2080      \n",
      "_________________________________________________________________\n",
      "batch_normalization_13 (Batc (None, 20308, 32)         128       \n",
      "_________________________________________________________________\n",
      "max_pooling1d_3 (MaxPooling1 (None, 10154, 32)         0         \n",
      "_________________________________________________________________\n",
      "conv1d_15 (Conv1D)           (None, 10154, 64)         4160      \n",
      "_________________________________________________________________\n",
      "batch_normalization_14 (Batc (None, 10154, 64)         256       \n",
      "_________________________________________________________________\n",
      "conv1d_16 (Conv1D)           (None, 10154, 64)         8256      \n",
      "_________________________________________________________________\n",
      "batch_normalization_15 (Batc (None, 10154, 64)         256       \n",
      "_________________________________________________________________\n",
      "flatten_2 (Flatten)          (None, 649856)            0         \n",
      "_________________________________________________________________\n",
      "dense_3 (Dense)              (None, 128)               83181696  \n",
      "_________________________________________________________________\n",
      "dense_4 (Dense)              (None, 14)                1806      \n",
      "=================================================================\n",
      "Total params: 83,198,862\n",
      "Trainable params: 83,198,478\n",
      "Non-trainable params: 384\n",
      "_________________________________________________________________\n"
     ]
    }
   ],
   "source": [
    "for layer in full_model.layers[0:19]:\n",
    "    layer.trainable = True\n",
    "    \n",
    "full_model.compile(loss=keras.losses.categorical_crossentropy, optimizer=keras.optimizers.Adam(),metrics=['accuracy'])\n",
    "\n",
    "full_model.summary()"
   ]
  },
  {
   "cell_type": "code",
   "execution_count": 18,
   "metadata": {},
   "outputs": [
    {
     "name": "stdout",
     "output_type": "stream",
     "text": [
      "Original label: 1\n",
      "After conversion to one-hot: [0. 1. 0. 0. 0. 0. 0. 0. 0. 0. 0. 0. 0. 0.]\n",
      "X_train shape: (5921, 20308, 1)\n",
      "Y_train shape: (5921, 14)\n",
      "(5921, 1, 20308)\n",
      "(5921, 20308, 1)\n",
      "(1974, 14)\n"
     ]
    }
   ],
   "source": [
    "type_labels_one_hot = to_categorical(type_labels)\n",
    "\n",
    "# Display the change for category label using one-hot encoding\n",
    "print('Original label:', type_labels[0])\n",
    "print('After conversion to one-hot:', type_labels_one_hot[0])\n",
    "    \n",
    "from sklearn.utils import class_weight\n",
    "train_x, test_x, train_y, test_y = prepare_test_train_valid(type_features, type_labels_one_hot)\n",
    "\n",
    "sample_weights = class_weight.compute_sample_weight('balanced', train_y)\n",
    "print(train_x.shape)\n",
    "train_x = train_x.transpose(0,2,1)\n",
    "test_x = test_x.transpose(0,2,1)\n",
    "\n",
    "print(train_x.shape)\n",
    "print(test_y.shape)"
   ]
  },
  {
   "cell_type": "markdown",
   "metadata": {},
   "source": [
    "# Train the Model"
   ]
  },
  {
   "cell_type": "code",
   "execution_count": 19,
   "metadata": {},
   "outputs": [
    {
     "name": "stdout",
     "output_type": "stream",
     "text": [
      "Train on 5328 samples, validate on 593 samples\n",
      "Epoch 1/1\n",
      "5328/5328 [==============================] - 190s 36ms/step - loss: 10.9721 - acc: 0.3069 - val_loss: 11.5714 - val_acc: 0.2816\n"
     ]
    }
   ],
   "source": [
    "classify_train = full_model.fit(train_x, train_y, validation_split=0.1, batch_size=64, epochs=1, verbose=1)\n",
    "full_model.save_weights('autoencoder_classification.h5')"
   ]
  },
  {
   "cell_type": "markdown",
   "metadata": {},
   "source": [
    "Next, you will re-train the model by making the first nineteen layers trainable as True instead of keeping them False! So, let's quickly do that."
   ]
  },
  {
   "cell_type": "code",
   "execution_count": 20,
   "metadata": {},
   "outputs": [
    {
     "name": "stdout",
     "output_type": "stream",
     "text": [
      "Train on 5328 samples, validate on 593 samples\n",
      "Epoch 1/1\n",
      "5328/5328 [==============================] - 190s 36ms/step - loss: 10.8615 - acc: 0.3251 - val_loss: 10.4116 - val_acc: 0.3508\n"
     ]
    }
   ],
   "source": [
    "for layer in full_model.layers[0:19]:\n",
    "    layer.trainable = True\n",
    "    \n",
    "full_model.compile(loss=keras.losses.categorical_crossentropy, optimizer=keras.optimizers.Adam(lr=0.0001),metrics=['accuracy'])\n",
    "classify_train = full_model.fit(train_x, train_y, batch_size=64,epochs=1,verbose=1,validation_split=0.1)\n",
    "\n",
    "full_model.save_weights('classification_complete.h5')"
   ]
  },
  {
   "cell_type": "code",
   "execution_count": 21,
   "metadata": {},
   "outputs": [
    {
     "data": {
      "image/png": "[encoded data removed]",
      "text/plain": [
       "<Figure size 432x288 with 1 Axes>"
      ]
     },
     "metadata": {
      "needs_background": "light"
     },
     "output_type": "display_data"
    },
    {
     "data": {
      "image/png": "[encoded data removed]",
      "text/plain": [
       "<Figure size 432x288 with 1 Axes>"
      ]
     },
     "metadata": {
      "needs_background": "light"
     },
     "output_type": "display_data"
    }
   ],
   "source": [
    "accuracy = classify_train.history['acc']\n",
    "val_accuracy = classify_train.history['val_acc']\n",
    "loss = classify_train.history['loss']\n",
    "val_loss = classify_train.history['val_loss']\n",
    "epochs = range(len(accuracy))\n",
    "plt.plot(epochs, accuracy, 'bo', label='Training accuracy')\n",
    "plt.plot(epochs, val_accuracy, 'b', label='Validation accuracy')\n",
    "plt.title('Training and validation accuracy')\n",
    "plt.legend()\n",
    "plt.figure()\n",
    "plt.plot(epochs, loss, 'bo', label='Training loss')\n",
    "plt.plot(epochs, val_loss, 'b', label='Validation loss')\n",
    "plt.title('Training and validation loss')\n",
    "plt.legend()\n",
    "plt.show()"
   ]
  },
  {
   "cell_type": "markdown",
   "metadata": {},
   "source": [
    "# Model Evaluation on the Test Set"
   ]
  },
  {
   "cell_type": "code",
   "execution_count": 22,
   "metadata": {},
   "outputs": [
    {
     "name": "stdout",
     "output_type": "stream",
     "text": [
      "Test loss: 10.711199055085187\n",
      "Test accuracy: 0.33434650468004995\n"
     ]
    }
   ],
   "source": [
    "test_eval = full_model.evaluate(test_x, test_y, verbose=0)\n",
    "\n",
    "print('Test loss:', test_eval[0])\n",
    "print('Test accuracy:', test_eval[1])"
   ]
  },
  {
   "cell_type": "code",
   "execution_count": 23,
   "metadata": {},
   "outputs": [],
   "source": [
    "predicted_classes = full_model.predict(test_x)"
   ]
  },
  {
   "cell_type": "code",
   "execution_count": 24,
   "metadata": {},
   "outputs": [
    {
     "data": {
      "text/plain": [
       "((1974, 14), (1974, 14))"
      ]
     },
     "execution_count": 24,
     "metadata": {},
     "output_type": "execute_result"
    }
   ],
   "source": [
    "predicted_classes.shape, test_y.shape"
   ]
  },
  {
   "cell_type": "code",
   "execution_count": 25,
   "metadata": {},
   "outputs": [
    {
     "name": "stdout",
     "output_type": "stream",
     "text": [
      "[1. 0. 0. 0. 0. 0. 0. 0. 0. 0. 0. 0. 0. 0.]\n",
      "[0.000000e+00 0.000000e+00 0.000000e+00 0.000000e+00 0.000000e+00\n",
      " 0.000000e+00 0.000000e+00 0.000000e+00 5.879842e-23 0.000000e+00\n",
      " 0.000000e+00 0.000000e+00 0.000000e+00 1.000000e+00]\n"
     ]
    }
   ],
   "source": [
    "print(test_y[0])\n",
    "\n",
    "print(predicted_classes[0])"
   ]
  },
  {
   "cell_type": "code",
   "execution_count": 26,
   "metadata": {},
   "outputs": [
    {
     "ename": "ValueError",
     "evalue": "Mix type of y not allowed, got types {'multilabel-indicator', 'continuous-multioutput'}",
     "output_type": "error",
     "traceback": [
      "\u001b[0;31m---------------------------------------------------------------------------\u001b[0m",
      "\u001b[0;31mValueError\u001b[0m                                Traceback (most recent call last)",
      "\u001b[0;32m<ipython-input-26-2273905b6e6d>\u001b[0m in \u001b[0;36m<module>\u001b[0;34m\u001b[0m\n\u001b[1;32m      1\u001b[0m \u001b[0;32mfrom\u001b[0m \u001b[0msklearn\u001b[0m\u001b[0;34m.\u001b[0m\u001b[0mmetrics\u001b[0m \u001b[0;32mimport\u001b[0m \u001b[0mclassification_report\u001b[0m\u001b[0;34m\u001b[0m\u001b[0m\n\u001b[1;32m      2\u001b[0m \u001b[0;31m#target_names = [\"Class {}\".format(i) for i in range(num_classes)]\u001b[0m\u001b[0;34m\u001b[0m\u001b[0;34m\u001b[0m\u001b[0m\n\u001b[0;32m----> 3\u001b[0;31m \u001b[0mprint\u001b[0m\u001b[0;34m(\u001b[0m\u001b[0mclassification_report\u001b[0m\u001b[0;34m(\u001b[0m\u001b[0mtest_y\u001b[0m\u001b[0;34m,\u001b[0m \u001b[0mpredicted_classes\u001b[0m\u001b[0;34m)\u001b[0m\u001b[0;34m)\u001b[0m\u001b[0;34m\u001b[0m\u001b[0m\n\u001b[0m",
      "\u001b[0;32m/usr/local/lib/python3.5/dist-packages/sklearn/metrics/classification.py\u001b[0m in \u001b[0;36mclassification_report\u001b[0;34m(y_true, y_pred, labels, target_names, sample_weight, digits)\u001b[0m\n\u001b[1;32m   1419\u001b[0m \u001b[0;34m\u001b[0m\u001b[0m\n\u001b[1;32m   1420\u001b[0m     \u001b[0;32mif\u001b[0m \u001b[0mlabels\u001b[0m \u001b[0;32mis\u001b[0m \u001b[0;32mNone\u001b[0m\u001b[0;34m:\u001b[0m\u001b[0;34m\u001b[0m\u001b[0m\n\u001b[0;32m-> 1421\u001b[0;31m         \u001b[0mlabels\u001b[0m \u001b[0;34m=\u001b[0m \u001b[0munique_labels\u001b[0m\u001b[0;34m(\u001b[0m\u001b[0my_true\u001b[0m\u001b[0;34m,\u001b[0m \u001b[0my_pred\u001b[0m\u001b[0;34m)\u001b[0m\u001b[0;34m\u001b[0m\u001b[0m\n\u001b[0m\u001b[1;32m   1422\u001b[0m     \u001b[0;32melse\u001b[0m\u001b[0;34m:\u001b[0m\u001b[0;34m\u001b[0m\u001b[0m\n\u001b[1;32m   1423\u001b[0m         \u001b[0mlabels\u001b[0m \u001b[0;34m=\u001b[0m \u001b[0mnp\u001b[0m\u001b[0;34m.\u001b[0m\u001b[0masarray\u001b[0m\u001b[0;34m(\u001b[0m\u001b[0mlabels\u001b[0m\u001b[0;34m)\u001b[0m\u001b[0;34m\u001b[0m\u001b[0m\n",
      "\u001b[0;32m/usr/local/lib/python3.5/dist-packages/sklearn/utils/multiclass.py\u001b[0m in \u001b[0;36munique_labels\u001b[0;34m(*ys)\u001b[0m\n\u001b[1;32m     80\u001b[0m \u001b[0;34m\u001b[0m\u001b[0m\n\u001b[1;32m     81\u001b[0m     \u001b[0;32mif\u001b[0m \u001b[0mlen\u001b[0m\u001b[0;34m(\u001b[0m\u001b[0mys_types\u001b[0m\u001b[0;34m)\u001b[0m \u001b[0;34m>\u001b[0m \u001b[0;36m1\u001b[0m\u001b[0;34m:\u001b[0m\u001b[0;34m\u001b[0m\u001b[0m\n\u001b[0;32m---> 82\u001b[0;31m         \u001b[0;32mraise\u001b[0m \u001b[0mValueError\u001b[0m\u001b[0;34m(\u001b[0m\u001b[0;34m\"Mix type of y not allowed, got types %s\"\u001b[0m \u001b[0;34m%\u001b[0m \u001b[0mys_types\u001b[0m\u001b[0;34m)\u001b[0m\u001b[0;34m\u001b[0m\u001b[0m\n\u001b[0m\u001b[1;32m     83\u001b[0m \u001b[0;34m\u001b[0m\u001b[0m\n\u001b[1;32m     84\u001b[0m     \u001b[0mlabel_type\u001b[0m \u001b[0;34m=\u001b[0m \u001b[0mys_types\u001b[0m\u001b[0;34m.\u001b[0m\u001b[0mpop\u001b[0m\u001b[0;34m(\u001b[0m\u001b[0;34m)\u001b[0m\u001b[0;34m\u001b[0m\u001b[0m\n",
      "\u001b[0;31mValueError\u001b[0m: Mix type of y not allowed, got types {'multilabel-indicator', 'continuous-multioutput'}"
     ]
    }
   ],
   "source": [
    "from sklearn.metrics import classification_report\n",
    "#target_names = [\"Class {}\".format(i) for i in range(num_classes)]\n",
    "print(classification_report(test_y, predicted_classes))"
   ]
  },
  {
   "cell_type": "code",
   "execution_count": 31,
   "metadata": {},
   "outputs": [
    {
     "data": {
      "text/plain": [
       "((1974,), (1974,))"
      ]
     },
     "execution_count": 31,
     "metadata": {},
     "output_type": "execute_result"
    }
   ],
   "source": [
    "pred = np.argmax(np.round(predicted_classes),axis=1)\n",
    "y = np.argmax(np.round(test_y),axis=1)\n",
    "\n",
    "pred.shape, y.shape"
   ]
  },
  {
   "cell_type": "code",
   "execution_count": 32,
   "metadata": {},
   "outputs": [
    {
     "name": "stdout",
     "output_type": "stream",
     "text": [
      "             precision    recall  f1-score   support\n",
      "\n",
      "          0       0.82      0.41      0.55       122\n",
      "          1       1.00      0.01      0.01       138\n",
      "          2       1.00      0.01      0.03       137\n",
      "          3       0.00      0.00      0.00       124\n",
      "          4       0.00      0.00      0.00       139\n",
      "          5       1.00      0.01      0.03       141\n",
      "          6       0.06      0.79      0.12       134\n",
      "          7       0.00      0.00      0.00       132\n",
      "          8       0.69      0.39      0.50       283\n",
      "          9       0.00      0.00      0.00       134\n",
      "         10       0.00      0.00      0.00       144\n",
      "         11       0.00      0.00      0.00       128\n",
      "         12       0.00      0.00      0.00       104\n",
      "         13       0.06      0.03      0.04       114\n",
      "\n",
      "avg / total       0.37      0.14      0.12      1974\n",
      "\n"
     ]
    },
    {
     "name": "stderr",
     "output_type": "stream",
     "text": [
      "c:\\users\\admin-karim\\appdata\\local\\programs\\python\\python35\\lib\\site-packages\\sklearn\\metrics\\classification.py:1135: UndefinedMetricWarning: Precision and F-score are ill-defined and being set to 0.0 in labels with no predicted samples.\n",
      "  'precision', 'predicted', average, warn_for)\n"
     ]
    }
   ],
   "source": [
    "from sklearn.metrics import classification_report\n",
    "#target_names = [\"Class {}\".format(i) for i in range(num_classes)]\n",
    "print(classification_report(y, pred))"
   ]
  },
  {
   "cell_type": "code",
   "execution_count": null,
   "metadata": {},
   "outputs": [],
   "source": []
  }
 ],
 "metadata": {
  "kernelspec": {
   "display_name": "Python 3",
   "language": "python",
   "name": "python3"
  },
  "language_info": {
   "codemirror_mode": {
    "name": "ipython",
    "version": 3
   },
   "file_extension": ".py",
   "mimetype": "text/x-python",
   "name": "python",
   "nbconvert_exporter": "python",
   "pygments_lexer": "ipython3",
   "version": "3.5.3"
  }
 },
 "nbformat": 4,
 "nbformat_minor": 2
}
